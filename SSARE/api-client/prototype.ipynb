{
 "cells": [
  {
   "cell_type": "code",
   "execution_count": 1,
   "metadata": {},
   "outputs": [],
   "source": [
    "from main import OPOL\n",
    "import os\n",
    "\n",
    "os.environ[\"OPOL_MODE\"] = \"remote\"\n",
    "opol = OPOL(mode=\"remote\")\n",
    "\n"
   ]
  },
  {
   "cell_type": "code",
   "execution_count": 2,
   "metadata": {},
   "outputs": [
    {
     "name": "stdout",
     "output_type": "stream",
     "text": [
      "/postgres-service/contents\n",
      "{'query': 'apple', 'limit': 10, 'from_date': None, 'to_date': None, 'search_type': None, 'entities': None}\n",
      "HTTP error occurred: Client error '422 Unprocessable Entity' for url 'https://api.opol.io/postgres-service/contents?query=apple&limit=10&from_date=&to_date=&search_type=&entities='\n",
      "For more information check: https://developer.mozilla.org/en-US/docs/Web/HTTP/Status/422 for URL: https://api.opol.io/postgres-service/contents\n"
     ]
    },
    {
     "ename": "HTTPStatusError",
     "evalue": "Client error '422 Unprocessable Entity' for url 'https://api.opol.io/postgres-service/contents?query=apple&limit=10&from_date=&to_date=&search_type=&entities='\nFor more information check: https://developer.mozilla.org/en-US/docs/Web/HTTP/Status/422",
     "output_type": "error",
     "traceback": [
      "\u001b[0;31m---------------------------------------------------------------------------\u001b[0m",
      "\u001b[0;31mHTTPStatusError\u001b[0m                           Traceback (most recent call last)",
      "Cell \u001b[0;32mIn[2], line 2\u001b[0m\n\u001b[1;32m      1\u001b[0m \u001b[38;5;66;03m# Class submethods default to search\u001b[39;00m\n\u001b[0;32m----> 2\u001b[0m \u001b[38;5;28mprint\u001b[39m(\u001b[43mopol\u001b[49m\u001b[38;5;241;43m.\u001b[39;49m\u001b[43marticles\u001b[49m\u001b[38;5;241;43m.\u001b[39;49m\u001b[43mget_articles\u001b[49m\u001b[43m(\u001b[49m\u001b[43mquery\u001b[49m\u001b[38;5;241;43m=\u001b[39;49m\u001b[38;5;124;43m\"\u001b[39;49m\u001b[38;5;124;43mapple\u001b[39;49m\u001b[38;5;124;43m\"\u001b[39;49m\u001b[43m)\u001b[49m)\n\u001b[1;32m      3\u001b[0m \u001b[38;5;28mprint\u001b[39m(opol\u001b[38;5;241m.\u001b[39marticles(\u001b[38;5;124m\"\u001b[39m\u001b[38;5;124mNew York\u001b[39m\u001b[38;5;124m\"\u001b[39m, pretty\u001b[38;5;241m=\u001b[39m\u001b[38;5;28;01mTrue\u001b[39;00m))    \n\u001b[1;32m      5\u001b[0m \u001b[38;5;66;03m# Use date\u001b[39;00m\n",
      "File \u001b[0;32m~/ssare/SSARE/api-client/api/articles.py:47\u001b[0m, in \u001b[0;36mArticles.get_articles\u001b[0;34m(self, *args, **kwargs)\u001b[0m\n\u001b[1;32m     45\u001b[0m     \u001b[38;5;28mprint\u001b[39m(json\u001b[38;5;241m.\u001b[39mdumps(\u001b[38;5;28mself\u001b[39m\u001b[38;5;241m.\u001b[39mget(endpoint, params), indent\u001b[38;5;241m=\u001b[39m\u001b[38;5;241m4\u001b[39m))\n\u001b[1;32m     46\u001b[0m \u001b[38;5;28;01melse\u001b[39;00m:\n\u001b[0;32m---> 47\u001b[0m     \u001b[38;5;28;01mreturn\u001b[39;00m \u001b[38;5;28;43mself\u001b[39;49m\u001b[38;5;241;43m.\u001b[39;49m\u001b[43mget\u001b[49m\u001b[43m(\u001b[49m\u001b[43mendpoint\u001b[49m\u001b[43m,\u001b[49m\u001b[43m \u001b[49m\u001b[43mparams\u001b[49m\u001b[43m)\u001b[49m\n",
      "File \u001b[0;32m~/ssare/SSARE/api-client/api/client_base.py:28\u001b[0m, in \u001b[0;36mBaseClient.get\u001b[0;34m(self, endpoint, params)\u001b[0m\n\u001b[1;32m     26\u001b[0m     full_url \u001b[38;5;241m=\u001b[39m \u001b[38;5;124mf\u001b[39m\u001b[38;5;124m\"\u001b[39m\u001b[38;5;132;01m{\u001b[39;00m\u001b[38;5;28mself\u001b[39m\u001b[38;5;241m.\u001b[39mbase_url\u001b[38;5;132;01m}\u001b[39;00m\u001b[38;5;132;01m{\u001b[39;00mendpoint\u001b[38;5;132;01m}\u001b[39;00m\u001b[38;5;124m\"\u001b[39m\n\u001b[1;32m     27\u001b[0m     response \u001b[38;5;241m=\u001b[39m \u001b[38;5;28mself\u001b[39m\u001b[38;5;241m.\u001b[39mclient\u001b[38;5;241m.\u001b[39mget(full_url, params\u001b[38;5;241m=\u001b[39mparams, headers\u001b[38;5;241m=\u001b[39mheaders)\n\u001b[0;32m---> 28\u001b[0m     \u001b[43mresponse\u001b[49m\u001b[38;5;241;43m.\u001b[39;49m\u001b[43mraise_for_status\u001b[49m\u001b[43m(\u001b[49m\u001b[43m)\u001b[49m\n\u001b[1;32m     29\u001b[0m     \u001b[38;5;28;01mreturn\u001b[39;00m response\u001b[38;5;241m.\u001b[39mjson()\n\u001b[1;32m     30\u001b[0m \u001b[38;5;28;01mexcept\u001b[39;00m httpx\u001b[38;5;241m.\u001b[39mHTTPStatusError \u001b[38;5;28;01mas\u001b[39;00m e:\n",
      "File \u001b[0;32m~/.local/lib/python3.10/site-packages/httpx/_models.py:763\u001b[0m, in \u001b[0;36mResponse.raise_for_status\u001b[0;34m(self)\u001b[0m\n\u001b[1;32m    761\u001b[0m error_type \u001b[38;5;241m=\u001b[39m error_types\u001b[38;5;241m.\u001b[39mget(status_class, \u001b[38;5;124m\"\u001b[39m\u001b[38;5;124mInvalid status code\u001b[39m\u001b[38;5;124m\"\u001b[39m)\n\u001b[1;32m    762\u001b[0m message \u001b[38;5;241m=\u001b[39m message\u001b[38;5;241m.\u001b[39mformat(\u001b[38;5;28mself\u001b[39m, error_type\u001b[38;5;241m=\u001b[39merror_type)\n\u001b[0;32m--> 763\u001b[0m \u001b[38;5;28;01mraise\u001b[39;00m HTTPStatusError(message, request\u001b[38;5;241m=\u001b[39mrequest, response\u001b[38;5;241m=\u001b[39m\u001b[38;5;28mself\u001b[39m)\n",
      "\u001b[0;31mHTTPStatusError\u001b[0m: Client error '422 Unprocessable Entity' for url 'https://api.opol.io/postgres-service/contents?query=apple&limit=10&from_date=&to_date=&search_type=&entities='\nFor more information check: https://developer.mozilla.org/en-US/docs/Web/HTTP/Status/422"
     ]
    }
   ],
   "source": [
    "# Class submethods default to search\n",
    "print(opol.articles.get_articles(query=\"apple\"))\n",
    "print(opol.articles(\"New York\", pretty=True))    \n",
    "\n",
    "# Use date\n",
    "articles = opol.articles.get_articles(\"Berlin\", limit=100)\n",
    "\n",
    "entities = [article['title'] for article in articles[:3]]\n",
    "entity_ids = [article['id'] for article in articles]\n",
    "print(entities)\n",
    "print(entity_ids)\n",
    "\n",
    "geojson = opol.geojson.by_id(entity_ids)\n",
    "print(geojson['features'][0]['properties'])\n"
   ]
  },
  {
   "cell_type": "markdown",
   "metadata": {},
   "source": []
  },
  {
   "cell_type": "code",
   "execution_count": 9,
   "metadata": {},
   "outputs": [
    {
     "ename": "IndexError",
     "evalue": "list index out of range",
     "output_type": "error",
     "traceback": [
      "\u001b[0;31m---------------------------------------------------------------------------\u001b[0m",
      "\u001b[0;31mIndexError\u001b[0m                                Traceback (most recent call last)",
      "Cell \u001b[0;32mIn[9], line 9\u001b[0m\n\u001b[1;32m      6\u001b[0m opol \u001b[38;5;241m=\u001b[39m OPOL(mode\u001b[38;5;241m=\u001b[39m\u001b[38;5;124m\"\u001b[39m\u001b[38;5;124mlocal\u001b[39m\u001b[38;5;124m\"\u001b[39m, timeout\u001b[38;5;241m=\u001b[39m\u001b[38;5;241m240\u001b[39m)\n\u001b[1;32m      8\u001b[0m geojson \u001b[38;5;241m=\u001b[39m opol\u001b[38;5;241m.\u001b[39mgeojson\u001b[38;5;241m.\u001b[39mby_event(\u001b[38;5;124m\"\u001b[39m\u001b[38;5;124mWar\u001b[39m\u001b[38;5;124m\"\u001b[39m, limit\u001b[38;5;241m=\u001b[39m\u001b[38;5;241m100\u001b[39m)\n\u001b[0;32m----> 9\u001b[0m pprint(\u001b[43mgeojson\u001b[49m\u001b[43m[\u001b[49m\u001b[38;5;124;43m'\u001b[39;49m\u001b[38;5;124;43mfeatures\u001b[39;49m\u001b[38;5;124;43m'\u001b[39;49m\u001b[43m]\u001b[49m\u001b[43m[\u001b[49m\u001b[38;5;241;43m0\u001b[39;49m\u001b[43m]\u001b[49m[\u001b[38;5;124m'\u001b[39m\u001b[38;5;124mproperties\u001b[39m\u001b[38;5;124m'\u001b[39m])\n",
      "\u001b[0;31mIndexError\u001b[0m: list index out of range"
     ]
    }
   ],
   "source": [
    "from main import OPOL \n",
    "import os\n",
    "from pprint import pprint\n",
    "\n",
    "os.environ[\"OPOL_MODE\"] = \"local\"\n",
    "opol = OPOL(mode=\"local\", timeout=240)\n",
    "\n",
    "geojson = opol.geojson.by_event(\"War\", limit=100)\n",
    "pprint(geojson['features'][0]['properties'])\n"
   ]
  },
  {
   "cell_type": "code",
   "execution_count": null,
   "metadata": {},
   "outputs": [],
   "source": []
  }
 ],
 "metadata": {
  "kernelspec": {
   "display_name": "Python 3",
   "language": "python",
   "name": "python3"
  },
  "language_info": {
   "codemirror_mode": {
    "name": "ipython",
    "version": 3
   },
   "file_extension": ".py",
   "mimetype": "text/x-python",
   "name": "python",
   "nbconvert_exporter": "python",
   "pygments_lexer": "ipython3",
   "version": "3.10.12"
  }
 },
 "nbformat": 4,
 "nbformat_minor": 2
}
