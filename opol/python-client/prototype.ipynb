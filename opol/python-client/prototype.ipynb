{
 "cells": [
  {
   "cell_type": "markdown",
   "metadata": {},
   "source": [
    "# OPOL Python Client"
   ]
  },
  {
   "cell_type": "markdown",
   "metadata": {},
   "source": [
    "### Initialization"
   ]
  },
  {
   "cell_type": "markdown",
   "metadata": {},
   "source": [
    "#### Setup + Fetching Geojson"
   ]
  },
  {
   "cell_type": "code",
   "execution_count": 5,
   "metadata": {},
   "outputs": [
    {
     "name": "stdout",
     "output_type": "stream",
     "text": [
      "{'coordinates': [13.407032, 52.524932], 'location_type': 'locality', 'bbox': ['13.088333', '52.338242', '13.760469', '52.674917'], 'area': 0.118017}\n"
     ]
    }
   ],
   "source": [
    "from opol.main import OPOL\n",
    "import os\n",
    "from pprint import pprint\n",
    "\n",
    "# 1. Setup client (using opol.io)\n",
    "# opol = OPOL(api_key=\"\")\n",
    "\n",
    "# Alternatively - if you have booted the opol stack on your machine (no api key needed)\n",
    "opol = OPOL(mode=\"local\")\n",
    "\n",
    "geojson = opol.geo.json_by_event(\"War\", limit=5)\n",
    "if geojson['features']:\n",
    "    print(geojson['features'][0])\n",
    "\n",
    "geojson = opol.geo.code(\"Berlin\")\n",
    "print(geojson)\n"
   ]
  },
  {
   "cell_type": "code",
   "execution_count": null,
   "metadata": {},
   "outputs": [],
   "source": []
  },
  {
   "cell_type": "markdown",
   "metadata": {},
   "source": [
    "#### Checking for Articles"
   ]
  },
  {
   "cell_type": "code",
   "execution_count": 6,
   "metadata": {},
   "outputs": [
    {
     "ename": "SyntaxError",
     "evalue": "closing parenthesis ')' does not match opening parenthesis '[' (1257772937.py, line 20)",
     "output_type": "error",
     "traceback": [
      "\u001b[0;36m  Cell \u001b[0;32mIn[6], line 20\u001b[0;36m\u001b[0m\n\u001b[0;31m    print(geojson['features'][0]['properties'][0)\u001b[0m\n\u001b[0m                                                ^\u001b[0m\n\u001b[0;31mSyntaxError\u001b[0m\u001b[0;31m:\u001b[0m closing parenthesis ')' does not match opening parenthesis '['\n"
     ]
    }
   ],
   "source": [
    "from opol.main import OPOL\n",
    "import os\n",
    "from pprint import pprint\n",
    "\n",
    "opol = OPOL(mode=\"local\", api_key=\"\")\n",
    "\n",
    "# Class submethods default to search\n",
    "print(opol.articles.get_articles(query=\"apple\"))\n",
    "print(opol.articles(\"New York\", pretty=True))    \n",
    "\n",
    "# Use date\n",
    "articles = opol.articles.get_articles(\"Berlin\", limit=100)\n",
    "\n",
    "entities = [article['title'] for article in articles[:3]]\n",
    "entity_ids = [article['id'] for article in articles]\n",
    "print(entities)\n",
    "print(entity_ids)\n",
    "\n",
    "geojson = opol.geo.by_id(entity_ids)\n",
    "print(geojson['features'][0]['properties'][0)"
   ]
  },
  {
   "cell_type": "code",
   "execution_count": 4,
   "metadata": {},
   "outputs": [
    {
     "name": "stdout",
     "output_type": "stream",
     "text": [
      "dict_keys(['id', 'url', 'title', 'source', 'insertion_date', 'text_content', 'top_image', 'entities', 'tags', 'evaluation'])\n",
      "Electoral College: How it’s changed this year:2024-12-17T23:01:11.108817\n",
      "\n",
      "dict_keys(['id', 'url', 'title', 'source', 'insertion_date', 'text_content', 'top_image', 'entities', 'tags', 'evaluation'])\n",
      "Canada's finance minister quits over Trump tariff dispute with Trudeau:2024-12-17T23:01:11.104342\n",
      "\n",
      "dict_keys(['id', 'url', 'title', 'source', 'insertion_date', 'text_content', 'top_image', 'entities', 'tags', 'evaluation'])\n",
      "Hidden ticket fees and vacation rental charges will be banned in America:2024-12-17T23:01:11.107016\n",
      "\n",
      "dict_keys(['id', 'url', 'title', 'source', 'insertion_date', 'text_content', 'top_image', 'entities', 'tags', 'evaluation'])\n",
      "Some parts of Trump’s deportation plan may be ‘Obama-esque.’ There’s a reason for that:2024-12-18T14:53:14.122432\n",
      "\n",
      "dict_keys(['id', 'url', 'title', 'source', 'insertion_date', 'text_content', 'top_image', 'entities', 'tags', 'evaluation'])\n",
      "After investigating January 6, House GOP sides with Trump and goes after Liz Cheney:2024-12-18T14:53:14.121486\n",
      "\n",
      "dict_keys(['id', 'url', 'title', 'source', 'insertion_date', 'text_content', 'top_image', 'entities', 'tags', 'evaluation'])\n",
      "Here’s how Congress is supposed to fund the US government, but never does:2024-12-19T22:01:05.169096\n",
      "\n",
      "dict_keys(['id', 'url', 'title', 'source', 'insertion_date', 'text_content', 'top_image', 'entities', 'tags', 'evaluation'])\n",
      "Trump sues Des Moines Register and top pollster over final Iowa survey:2024-12-17T23:01:11.106715\n",
      "\n",
      "dict_keys(['id', 'url', 'title', 'source', 'insertion_date', 'text_content', 'top_image', 'entities', 'tags', 'evaluation'])\n",
      "Putin says he’s ‘ready’ for potential talks with Trump during year-end news conference:2024-12-19T18:01:01.700629\n",
      "\n",
      "dict_keys(['id', 'url', 'title', 'source', 'insertion_date', 'text_content', 'top_image', 'entities', 'tags', 'evaluation'])\n",
      "Supreme Court to hear TikTok's last gasp bid to avoid US ban:2024-12-19T00:00:51.463716\n",
      "\n",
      "dict_keys(['id', 'url', 'title', 'source', 'insertion_date', 'text_content', 'top_image', 'entities', 'tags', 'evaluation'])\n",
      "Abolishing the FDIC could backfire on Trump and his allies:2024-12-18T14:53:14.127381\n",
      "\n",
      "dict_keys(['id', 'url', 'title', 'source', 'insertion_date', 'text_content', 'top_image', 'entities', 'tags', 'evaluation'])\n",
      "Trudeau in peril after spat over Trump threat sparks crisis:2024-12-17T23:01:11.100226\n",
      "\n",
      "dict_keys(['id', 'url', 'title', 'source', 'insertion_date', 'text_content', 'top_image', 'entities', 'tags', 'evaluation'])\n",
      "Senate Armed Services Democrats argue allegations against Hegseth should disqualify him from leading Pentagon:2024-12-18T06:01:10.679365\n",
      "\n",
      "dict_keys(['id', 'url', 'title', 'source', 'insertion_date', 'text_content', 'top_image', 'entities', 'tags', 'evaluation'])\n",
      "Why some concerned shoppers are stockpiling goods:2024-12-17T23:01:11.105615\n",
      "\n",
      "dict_keys(['id', 'url', 'title', 'source', 'insertion_date', 'text_content', 'top_image', 'entities', 'tags', 'evaluation'])\n",
      "Many Trump voters still have doubts about him. Can he hold them?:2024-12-17T23:01:11.116868\n",
      "\n",
      "dict_keys(['id', 'url', 'title', 'source', 'insertion_date', 'text_content', 'top_image', 'entities', 'tags', 'evaluation'])\n",
      "Son of polio vaccine creator says he is ‘relieved’ Trump supports vaccine:2024-12-17T23:01:11.112644\n",
      "\n",
      "dict_keys(['id', 'url', 'title', 'source', 'insertion_date', 'text_content', 'top_image', 'entities', 'tags', 'evaluation'])\n",
      "US Fed cuts interest rates by quarter point – DW – 12:2024-12-19T00:00:51.452955\n",
      "\n",
      "dict_keys(['id', 'url', 'title', 'source', 'insertion_date', 'text_content', 'top_image', 'entities', 'tags', 'evaluation'])\n",
      "Trump’s border czar says he’ll need funding and at least 100K beds to carry out deportation plans:2024-12-19T04:00:51.494533\n",
      "\n",
      "dict_keys(['id', 'url', 'title', 'source', 'insertion_date', 'text_content', 'top_image', 'entities', 'tags', 'evaluation'])\n",
      "Justin Trudeau is facing a political crisis made worse by Donald Trump. Can he survive as Canada’s leader?:2024-12-17T23:01:11.106299\n",
      "\n",
      "dict_keys(['id', 'url', 'title', 'source', 'insertion_date', 'text_content', 'top_image', 'entities', 'tags', 'evaluation'])\n",
      "Masa Son is promising a massive investment in Trump’s America. Don’t hold your breath:2024-12-17T23:01:11.106165\n",
      "\n",
      "dict_keys(['id', 'url', 'title', 'source', 'insertion_date', 'text_content', 'top_image', 'entities', 'tags', 'evaluation'])\n",
      "Ukraine updates: Zelenskyy, Macron discuss troops deployment – DW – 12:2024-12-19T00:00:51.454897\n",
      "\n",
      "dict_keys(['id', 'url', 'title', 'source', 'insertion_date', 'text_content', 'top_image', 'entities', 'tags', 'evaluation'])\n",
      "Georgia appeals court disqualifies Fulton County DA Fani Willis from prosecuting Trump:2024-12-19T18:01:01.699201\n",
      "\n",
      "dict_keys(['id', 'url', 'title', 'source', 'insertion_date', 'text_content', 'top_image', 'entities', 'tags', 'evaluation'])\n",
      "Trump meets with TikTok CEO at Mar-a-Lago as company asks Supreme Court to intervene in fight over federal ban:2024-12-17T23:01:11.112100\n",
      "\n",
      "dict_keys(['id', 'url', 'title', 'source', 'insertion_date', 'text_content', 'top_image', 'entities', 'tags', 'evaluation'])\n",
      "KFile: Pete Hegseth spread baseless conspiracy theories that January 6 attack was carried out by leftist groups:2024-12-17T23:01:11.114862\n",
      "\n",
      "dict_keys(['id', 'url', 'title', 'source', 'insertion_date', 'text_content', 'top_image', 'entities', 'tags', 'evaluation'])\n",
      "German election: Scholz plans Trump visit before vote – DW – 12:2024-12-17T23:01:11.098060\n",
      "\n",
      "dict_keys(['id', 'url', 'title', 'source', 'insertion_date', 'text_content', 'top_image', 'entities', 'tags', 'evaluation'])\n",
      "What Trump could do on day one in the White House:2024-12-17T23:01:11.101606\n",
      "\n",
      "dict_keys(['id', 'url', 'title', 'source', 'insertion_date', 'text_content', 'top_image', 'entities', 'tags', 'evaluation'])\n",
      "Trump buoyant as big business and former foes fall in line:2024-12-17T23:01:11.102016\n",
      "\n",
      "dict_keys(['id', 'url', 'title', 'source', 'insertion_date', 'text_content', 'top_image', 'entities', 'tags', 'evaluation'])\n",
      "Why Trump’s proposed tariffs may be bad news for China and Asia:2024-12-19T00:00:51.448627\n",
      "\n",
      "dict_keys(['id', 'url', 'title', 'source', 'insertion_date', 'text_content', 'top_image', 'entities', 'tags', 'evaluation'])\n",
      "Trump relishes wielding power without responsibility:2024-12-17T23:01:11.113846\n",
      "\n",
      "dict_keys(['id', 'url', 'title', 'source', 'insertion_date', 'text_content', 'top_image', 'entities', 'tags', 'evaluation'])\n",
      "Kaitlan Collins asks Trump’s ‘border czar’ if he has any red lines on establishing deportation facilities:2024-12-19T18:01:01.702735\n",
      "\n",
      "dict_keys(['id', 'url', 'title', 'source', 'insertion_date', 'text_content', 'top_image', 'entities', 'tags', 'evaluation'])\n",
      "Elon Musk in talks over Reform UK donation, says Nigel Farage:2024-12-17T23:01:11.104477\n",
      "\n",
      "dict_keys(['id', 'url', 'title', 'source', 'insertion_date', 'text_content', 'top_image', 'entities', 'tags', 'evaluation'])\n",
      "Trump is going after Canada now – but everyone else is next:2024-12-18T06:01:10.681557\n",
      "\n",
      "dict_keys(['id', 'url', 'title', 'source', 'insertion_date', 'text_content', 'top_image', 'entities', 'tags', 'evaluation'])\n",
      "How Trump’s lawyer could steer the Supreme Court on abortion and trans rights:2024-12-18T14:53:14.128207\n",
      "\n",
      "dict_keys(['id', 'url', 'title', 'source', 'insertion_date', 'text_content', 'top_image', 'entities', 'tags', 'evaluation'])\n",
      "Trump 2.0 greets the press with a fight:2024-12-19T00:00:51.446829\n",
      "\n",
      "dict_keys(['id', 'url', 'title', 'source', 'insertion_date', 'text_content', 'top_image', 'entities', 'tags', 'evaluation'])\n",
      "India: What's behind BJP's 'deep state' charges against US? – DW – 12:2024-12-17T23:01:11.091944\n",
      "\n",
      "dict_keys(['id', 'url', 'title', 'source', 'insertion_date', 'text_content', 'top_image', 'entities', 'tags', 'evaluation'])\n",
      "Trump sues Des Moines Register for 'brazen election interference':2024-12-18T01:01:25.937202\n",
      "\n",
      "dict_keys(['id', 'url', 'title', 'source', 'insertion_date', 'text_content', 'top_image', 'entities', 'tags', 'evaluation'])\n",
      "Fulton County DA Fani Willis disqualified from Trump case:2024-12-19T20:00:58.665755\n",
      "\n",
      "dict_keys(['id', 'url', 'title', 'source', 'insertion_date', 'text_content', 'top_image', 'entities', 'tags', 'evaluation'])\n",
      "Biden stays out of public spotlight as shutdown negotiations spiral and deadline looms:2024-12-19T20:00:58.651151\n",
      "\n"
     ]
    }
   ],
   "source": [
    "from opol.main import OPOL\n",
    "import os\n",
    "from pprint import pprint\n",
    "\n",
    "opol = OPOL(mode=\"local\", api_key=\"\")\n",
    "\n",
    "articles = opol.articles.by_entity(\"Trump\", limit=100)\n",
    "\n",
    "for article in articles:\n",
    "    print(article.keys())\n",
    "    print(f\"{article['title']}:\" + article['insertion_date'] + \"\\n\")"
   ]
  },
  {
   "cell_type": "code",
   "execution_count": 7,
   "metadata": {},
   "outputs": [
    {
     "name": "stderr",
     "output_type": "stream",
     "text": [
      "HTTP error occurred: Client error '401 Unauthorized' for url 'https://api.opol.io/geo-service/geojson_events/War?limit=5'\n",
      "For more information check: https://developer.mozilla.org/en-US/docs/Web/HTTP/Status/401 for URL: https://api.opol.io/geo-service/geojson_events/War?limit=5\n"
     ]
    },
    {
     "ename": "HTTPStatusError",
     "evalue": "Client error '401 Unauthorized' for url 'https://api.opol.io/geo-service/geojson_events/War?limit=5'\nFor more information check: https://developer.mozilla.org/en-US/docs/Web/HTTP/Status/401",
     "output_type": "error",
     "traceback": [
      "\u001b[0;31m---------------------------------------------------------------------------\u001b[0m",
      "\u001b[0;31mHTTPStatusError\u001b[0m                           Traceback (most recent call last)",
      "Cell \u001b[0;32mIn[7], line 9\u001b[0m\n\u001b[1;32m      5\u001b[0m os\u001b[38;5;241m.\u001b[39menviron[\u001b[38;5;124m'\u001b[39m\u001b[38;5;124mOPOL_MODE\u001b[39m\u001b[38;5;124m'\u001b[39m] \u001b[38;5;241m=\u001b[39m \u001b[38;5;124m\"\u001b[39m\u001b[38;5;124mremote\u001b[39m\u001b[38;5;124m\"\u001b[39m\n\u001b[1;32m      7\u001b[0m opol \u001b[38;5;241m=\u001b[39m OPOL(api_key\u001b[38;5;241m=\u001b[39m\u001b[38;5;124m\"\u001b[39m\u001b[38;5;124m\"\u001b[39m)\n\u001b[0;32m----> 9\u001b[0m geojson \u001b[38;5;241m=\u001b[39m \u001b[43mopol\u001b[49m\u001b[38;5;241;43m.\u001b[39;49m\u001b[43mgeo\u001b[49m\u001b[38;5;241;43m.\u001b[39;49m\u001b[43mjson_by_event\u001b[49m\u001b[43m(\u001b[49m\u001b[38;5;124;43m\"\u001b[39;49m\u001b[38;5;124;43mWar\u001b[39;49m\u001b[38;5;124;43m\"\u001b[39;49m\u001b[43m,\u001b[49m\u001b[43m \u001b[49m\u001b[43mlimit\u001b[49m\u001b[38;5;241;43m=\u001b[39;49m\u001b[38;5;241;43m5\u001b[39;49m\u001b[43m)\u001b[49m\n\u001b[1;32m     10\u001b[0m \u001b[38;5;28mprint\u001b[39m(geojson)\n\u001b[1;32m     12\u001b[0m berlin_coords \u001b[38;5;241m=\u001b[39m opol\u001b[38;5;241m.\u001b[39mgeo\u001b[38;5;241m.\u001b[39mcode(\u001b[38;5;124m\"\u001b[39m\u001b[38;5;124mBerlin\u001b[39m\u001b[38;5;124m\"\u001b[39m)[\u001b[38;5;124m\"\u001b[39m\u001b[38;5;124mcoordinates\u001b[39m\u001b[38;5;124m\"\u001b[39m]\n",
      "File \u001b[0;32m~/fullstack/opol/opol/python-client/opol/api/geo.py:26\u001b[0m, in \u001b[0;36mGeo.json_by_event\u001b[0;34m(self, event_type, limit, pretty)\u001b[0m\n\u001b[1;32m     24\u001b[0m     \u001b[38;5;28;01mreturn\u001b[39;00m response\n\u001b[1;32m     25\u001b[0m \u001b[38;5;28;01melse\u001b[39;00m:\n\u001b[0;32m---> 26\u001b[0m     \u001b[38;5;28;01mreturn\u001b[39;00m \u001b[38;5;28;43mself\u001b[39;49m\u001b[38;5;241;43m.\u001b[39;49m\u001b[43mget\u001b[49m\u001b[43m(\u001b[49m\u001b[43mendpoint\u001b[49m\u001b[43m)\u001b[49m\n",
      "File \u001b[0;32m~/fullstack/opol/opol/python-client/opol/api/client_base.py:49\u001b[0m, in \u001b[0;36mBaseClient.get\u001b[0;34m(self, endpoint, params)\u001b[0m\n\u001b[1;32m     47\u001b[0m \u001b[38;5;28;01mtry\u001b[39;00m:\n\u001b[1;32m     48\u001b[0m     response \u001b[38;5;241m=\u001b[39m \u001b[38;5;28mself\u001b[39m\u001b[38;5;241m.\u001b[39mclient\u001b[38;5;241m.\u001b[39mget(full_url, params\u001b[38;5;241m=\u001b[39mparams, headers\u001b[38;5;241m=\u001b[39mheaders)\n\u001b[0;32m---> 49\u001b[0m     \u001b[43mresponse\u001b[49m\u001b[38;5;241;43m.\u001b[39;49m\u001b[43mraise_for_status\u001b[49m\u001b[43m(\u001b[49m\u001b[43m)\u001b[49m\n\u001b[1;32m     50\u001b[0m     \u001b[38;5;28;01mreturn\u001b[39;00m response\u001b[38;5;241m.\u001b[39mjson()\n\u001b[1;32m     51\u001b[0m \u001b[38;5;28;01mexcept\u001b[39;00m httpx\u001b[38;5;241m.\u001b[39mHTTPStatusError \u001b[38;5;28;01mas\u001b[39;00m e:\n",
      "File \u001b[0;32m~/.local/lib/python3.10/site-packages/httpx/_models.py:763\u001b[0m, in \u001b[0;36mResponse.raise_for_status\u001b[0;34m(self)\u001b[0m\n\u001b[1;32m    761\u001b[0m error_type \u001b[38;5;241m=\u001b[39m error_types\u001b[38;5;241m.\u001b[39mget(status_class, \u001b[38;5;124m\"\u001b[39m\u001b[38;5;124mInvalid status code\u001b[39m\u001b[38;5;124m\"\u001b[39m)\n\u001b[1;32m    762\u001b[0m message \u001b[38;5;241m=\u001b[39m message\u001b[38;5;241m.\u001b[39mformat(\u001b[38;5;28mself\u001b[39m, error_type\u001b[38;5;241m=\u001b[39merror_type)\n\u001b[0;32m--> 763\u001b[0m \u001b[38;5;28;01mraise\u001b[39;00m HTTPStatusError(message, request\u001b[38;5;241m=\u001b[39mrequest, response\u001b[38;5;241m=\u001b[39m\u001b[38;5;28mself\u001b[39m)\n",
      "\u001b[0;31mHTTPStatusError\u001b[0m: Client error '401 Unauthorized' for url 'https://api.opol.io/geo-service/geojson_events/War?limit=5'\nFor more information check: https://developer.mozilla.org/en-US/docs/Web/HTTP/Status/401"
     ]
    }
   ],
   "source": [
    "from opol.main import OPOL\n",
    "import os\n",
    "\n",
    "# set env variable\n",
    "os.environ['OPOL_MODE'] = \"remote\"\n",
    "\n",
    "opol = OPOL(api_key=\"\")\n",
    "\n",
    "geojson = opol.geo.json_by_event(\"War\", limit=5)\n",
    "print(geojson)\n",
    "\n",
    "berlin_coords = opol.geo.code(\"Berlin\")[\"coordinates\"]\n",
    "print(berlin_coords)\n",
    "\n",
    "\n"
   ]
  },
  {
   "cell_type": "code",
   "execution_count": null,
   "metadata": {},
   "outputs": [],
   "source": []
  }
 ],
 "metadata": {
  "kernelspec": {
   "display_name": "Python 3",
   "language": "python",
   "name": "python3"
  },
  "language_info": {
   "codemirror_mode": {
    "name": "ipython",
    "version": 3
   },
   "file_extension": ".py",
   "mimetype": "text/x-python",
   "name": "python",
   "nbconvert_exporter": "python",
   "pygments_lexer": "ipython3",
   "version": "3.10.12"
  }
 },
 "nbformat": 4,
 "nbformat_minor": 2
}
